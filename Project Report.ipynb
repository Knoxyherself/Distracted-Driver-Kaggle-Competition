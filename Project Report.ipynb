{
 "cells": [
  {
   "cell_type": "markdown",
   "id": "aef99361",
   "metadata": {},
   "source": [
    "# Distracted Driver Recognition\n",
    "\n",
    "### Project Overview"
   ]
  },
  {
   "cell_type": "markdown",
   "id": "df60a957",
   "metadata": {},
   "source": [
    "Distracted drivers contribute to more than 3000 road accidents per year. Analysis of figures from the Department for Transport (DfT) found that drivers who had been distracted from the task at hand were involved in 3,070 accidents during 2018. Unfortunately, those crashes led to a total of 93 deaths.\n",
    "\n",
    "According to the organisation, 92 serious accidents involved mobile phone use as a contributing factor, with 25 fatal accidents involving the use of a mobile phone. However, drivers also need to be aware of other in-car systems such as satellite navigation the radio. Passengers and pets were also earmarked as potential distractions.\n",
    "\n",
    "This report details the steps taken to develop a machine learning model to identify photographs of distracted driving behaviours. A real-life applictaion for this machine-learning model would be making an assessment of driver behaviour at the time that their image is captured (for example, whilst speeding) allowing for police to determine if their crime had contributory factors and should carry a harsher sentance.  "
   ]
  },
  {
   "cell_type": "markdown",
   "id": "f21c2996",
   "metadata": {},
   "source": [
    "### Objective"
   ]
  },
  {
   "cell_type": "markdown",
   "id": "7fdcb6b4",
   "metadata": {},
   "source": [
    "Given a dataset of 2D dashboard camera images, containing both safe and unsafe behaviours, a convolutional neural network (CCN) was developed to classify each driver's behaviour and determine if they are driving attentively, wearing their seatbelt etc. or if they were engaging in unsafe, distracted behaviours that may result in injury or even death. \n",
    "For development of the deep-learning algorithm, the following steps were carried out: \n",
    "1.\tDownload and pre-process the driver images\n",
    "2.\tBuild and train a model to classify the driver images\n",
    "3.\tTest the model and further improve the model (if required)\n",
    "\n"
   ]
  },
  {
   "cell_type": "markdown",
   "id": "fa650b94",
   "metadata": {},
   "source": [
    "### Data Exploration"
   ]
  },
  {
   "cell_type": "markdown",
   "id": "3c45947d",
   "metadata": {},
   "source": [
    "This project utilises a Kaggle competition dataset (State Farm Driver Detection – \"Can computer vision spot distracted drivers?\") (https://www.kaggle.com/c/state-farm-distracted-driver-detection/overview)\n",
    "\n",
    "This dataset is used for training and evaluating the model. The dataset includes 102,150 images of drivers that are separated into 10 categories which are labelled as follows, and shown below:\n",
    "\n",
    "•\tc0: safe driving  \n",
    "•\tc1: texting - right  \n",
    "•\tc2: talking on the phone - right  \n",
    "•\tc3: texting - left  \n",
    "•\tc4: talking on the phone – left  \n",
    "•\tc5: operating the radio  \n",
    "•\tc6: drinking  \n",
    "•\tc7: reaching behind  \n",
    "•\tc8: hair and makeup  \n",
    "•\tc9: talking to passenger  \n",
    "![Distracted Driving Categories](Imgs/Image.png)\n",
    "\n",
    "The dataset is split into train and test sets. The train set contains 22,424 images and the test set contains 79,726 images. All the images have the same resolution of 640×480 pixels. The class and the driver ID are specified for each image in the training data (driver ID specifies which driver is on the image). There are 26 different drivers in the dataset. \n",
    " All the training and test images belong to the 10 categories shown above. The images are coloured and have 640 x 480 pixels each. "
   ]
  },
  {
   "cell_type": "markdown",
   "id": "4401c64c",
   "metadata": {},
   "source": [
    "### Import Libraries"
   ]
  },
  {
   "cell_type": "code",
   "execution_count": 2,
   "id": "8f438166",
   "metadata": {},
   "outputs": [],
   "source": [
    "import os\n",
    "import numpy as np #linear algebra\n",
    "import pandas as pd #data processing\n",
    "import matplotlib.pyplot as plt\n",
    "import seaborn as sns\n",
    "import keras\n",
    "\n",
    "from sklearn.metrics import confusion_matrix\n",
    "from sklearn.datasets import load_files\n",
    "from sklearn.metrics import accuracy_score,precision_score,recall_score,f1_score\n",
    "from sklearn.model_selection import train_test_split\n",
    "\n",
    "from tensorflow.keras.utils import to_categorical\n",
    "\n",
    "from keras.utils import np_utils\n",
    "from keras.layers import Conv2D, MaxPooling2D, GlobalAveragePooling2D\n",
    "from keras.models import load_model\n",
    "from keras.utils import np_utils\n",
    "from keras.preprocessing import image \n",
    "from keras.layers import Dropout, Flatten, Dense\n",
    "from keras.models import Sequential\n",
    "from keras.utils.vis_utils import plot_model\n",
    "from keras.callbacks import ModelCheckpoint\n",
    "from keras.preprocessing import image     \n",
    "\n",
    "from tqdm import tqdm\n",
    "\n",
    "import shutil\n",
    "\n",
    "import matplotlib.pyplot as plt\n",
    "%matplotlib inline"
   ]
  },
  {
   "cell_type": "markdown",
   "id": "6ce96f3f",
   "metadata": {},
   "source": [
    "### Check Training Image Data"
   ]
  },
  {
   "cell_type": "code",
   "execution_count": 3,
   "id": "c800d85f",
   "metadata": {},
   "outputs": [],
   "source": [
    "#read the project data .csv file into a dataframe\n",
    "df = pd.read_csv(r\"C:\\Users\\UK19759\\OneDrive - Nissan Motor Corporation\\Desktop\\Machine Learning\\state-farm-distracted-driver-detection\\driver_imgs_list.csv\")"
   ]
  },
  {
   "cell_type": "code",
   "execution_count": 4,
   "id": "2aeb125d",
   "metadata": {},
   "outputs": [
    {
     "name": "stdout",
     "output_type": "stream",
     "text": [
      "<class 'pandas.core.frame.DataFrame'>\n",
      "RangeIndex: 22424 entries, 0 to 22423\n",
      "Data columns (total 3 columns):\n",
      " #   Column     Non-Null Count  Dtype \n",
      "---  ------     --------------  ----- \n",
      " 0   subject    22424 non-null  object\n",
      " 1   classname  22424 non-null  object\n",
      " 2   img        22424 non-null  object\n",
      "dtypes: object(3)\n",
      "memory usage: 525.7+ KB\n"
     ]
    }
   ],
   "source": [
    "df.info()"
   ]
  },
  {
   "cell_type": "code",
   "execution_count": 5,
   "id": "4c787a42",
   "metadata": {
    "scrolled": true
   },
   "outputs": [
    {
     "data": {
      "text/html": [
       "<div>\n",
       "<style scoped>\n",
       "    .dataframe tbody tr th:only-of-type {\n",
       "        vertical-align: middle;\n",
       "    }\n",
       "\n",
       "    .dataframe tbody tr th {\n",
       "        vertical-align: top;\n",
       "    }\n",
       "\n",
       "    .dataframe thead th {\n",
       "        text-align: right;\n",
       "    }\n",
       "</style>\n",
       "<table border=\"1\" class=\"dataframe\">\n",
       "  <thead>\n",
       "    <tr style=\"text-align: right;\">\n",
       "      <th></th>\n",
       "      <th>subject</th>\n",
       "      <th>classname</th>\n",
       "      <th>img</th>\n",
       "    </tr>\n",
       "  </thead>\n",
       "  <tbody>\n",
       "    <tr>\n",
       "      <th>0</th>\n",
       "      <td>p002</td>\n",
       "      <td>c0</td>\n",
       "      <td>img_44733.jpg</td>\n",
       "    </tr>\n",
       "    <tr>\n",
       "      <th>1</th>\n",
       "      <td>p002</td>\n",
       "      <td>c0</td>\n",
       "      <td>img_72999.jpg</td>\n",
       "    </tr>\n",
       "    <tr>\n",
       "      <th>2</th>\n",
       "      <td>p002</td>\n",
       "      <td>c0</td>\n",
       "      <td>img_25094.jpg</td>\n",
       "    </tr>\n",
       "    <tr>\n",
       "      <th>3</th>\n",
       "      <td>p002</td>\n",
       "      <td>c0</td>\n",
       "      <td>img_69092.jpg</td>\n",
       "    </tr>\n",
       "    <tr>\n",
       "      <th>4</th>\n",
       "      <td>p002</td>\n",
       "      <td>c0</td>\n",
       "      <td>img_92629.jpg</td>\n",
       "    </tr>\n",
       "  </tbody>\n",
       "</table>\n",
       "</div>"
      ],
      "text/plain": [
       "  subject classname            img\n",
       "0    p002        c0  img_44733.jpg\n",
       "1    p002        c0  img_72999.jpg\n",
       "2    p002        c0  img_25094.jpg\n",
       "3    p002        c0  img_69092.jpg\n",
       "4    p002        c0  img_92629.jpg"
      ]
     },
     "execution_count": 5,
     "metadata": {},
     "output_type": "execute_result"
    }
   ],
   "source": [
    "df.head()"
   ]
  },
  {
   "cell_type": "code",
   "execution_count": 6,
   "id": "25c5e948",
   "metadata": {},
   "outputs": [
    {
     "data": {
      "text/plain": [
       "0        c0\n",
       "1        c0\n",
       "2        c0\n",
       "3        c0\n",
       "4        c0\n",
       "         ..\n",
       "22419    c9\n",
       "22420    c9\n",
       "22421    c9\n",
       "22422    c9\n",
       "22423    c9\n",
       "Name: classname, Length: 22424, dtype: object"
      ]
     },
     "execution_count": 6,
     "metadata": {},
     "output_type": "execute_result"
    }
   ],
   "source": [
    "df['classname']"
   ]
  },
  {
   "cell_type": "code",
   "execution_count": 7,
   "id": "9ff8bf00",
   "metadata": {
    "scrolled": true
   },
   "outputs": [
    {
     "data": {
      "text/html": [
       "<div>\n",
       "<style scoped>\n",
       "    .dataframe tbody tr th:only-of-type {\n",
       "        vertical-align: middle;\n",
       "    }\n",
       "\n",
       "    .dataframe tbody tr th {\n",
       "        vertical-align: top;\n",
       "    }\n",
       "\n",
       "    .dataframe thead th {\n",
       "        text-align: right;\n",
       "    }\n",
       "</style>\n",
       "<table border=\"1\" class=\"dataframe\">\n",
       "  <thead>\n",
       "    <tr style=\"text-align: right;\">\n",
       "      <th></th>\n",
       "      <th>count</th>\n",
       "      <th>unique</th>\n",
       "      <th>top</th>\n",
       "      <th>freq</th>\n",
       "    </tr>\n",
       "  </thead>\n",
       "  <tbody>\n",
       "    <tr>\n",
       "      <th>subject</th>\n",
       "      <td>22424</td>\n",
       "      <td>26</td>\n",
       "      <td>p021</td>\n",
       "      <td>1237</td>\n",
       "    </tr>\n",
       "    <tr>\n",
       "      <th>classname</th>\n",
       "      <td>22424</td>\n",
       "      <td>10</td>\n",
       "      <td>c0</td>\n",
       "      <td>2489</td>\n",
       "    </tr>\n",
       "    <tr>\n",
       "      <th>img</th>\n",
       "      <td>22424</td>\n",
       "      <td>22424</td>\n",
       "      <td>img_44733.jpg</td>\n",
       "      <td>1</td>\n",
       "    </tr>\n",
       "  </tbody>\n",
       "</table>\n",
       "</div>"
      ],
      "text/plain": [
       "           count unique            top  freq\n",
       "subject    22424     26           p021  1237\n",
       "classname  22424     10             c0  2489\n",
       "img        22424  22424  img_44733.jpg     1"
      ]
     },
     "execution_count": 7,
     "metadata": {},
     "output_type": "execute_result"
    }
   ],
   "source": [
    "df.describe().transpose()"
   ]
  },
  {
   "cell_type": "markdown",
   "id": "2488081c",
   "metadata": {},
   "source": [
    "### Implementation\n",
    "\n",
    "The class distribution for this dataset is relatively uniform, as can be seen from using the .countplot function. If it had not been uniform, a preferred method would be to use a separate binary classification model for class individually then average the final evaluation of the classification approach. "
   ]
  },
  {
   "cell_type": "code",
   "execution_count": 8,
   "id": "55e4a966",
   "metadata": {
    "scrolled": false
   },
   "outputs": [
    {
     "data": {
      "text/plain": [
       "<AxesSubplot:xlabel='classname', ylabel='count'>"
      ]
     },
     "execution_count": 8,
     "metadata": {},
     "output_type": "execute_result"
    },
    {
     "data": {
      "image/png": "[encoded data removed]",
      "text/plain": [
       "<Figure size 432x288 with 1 Axes>"
      ]
     },
     "metadata": {
      "needs_background": "light"
     },
     "output_type": "display_data"
    }
   ],
   "source": [
    "#check no. of instances per label using countplot to check that the problem is evenly distributed\n",
    "sns.countplot(data=df,x='classname',color = \"lightblue\")"
   ]
  },
  {
   "cell_type": "markdown",
   "id": "862b2f2d",
   "metadata": {},
   "source": [
    "### Define the Train, Test and Model Directories"
   ]
  },
  {
   "cell_type": "code",
   "execution_count": 9,
   "id": "95a4bf6f",
   "metadata": {},
   "outputs": [],
   "source": [
    "TEST_DIR = os.path.join(os.getcwd(),r\"C:\\Users\\UK19759\\OneDrive - Nissan Motor Corporation\\Desktop\\Machine Learning\\state-farm-distracted-driver-detection\\imgs\",\"test\")\n",
    "TRAIN_DIR = os.path.join(os.getcwd(),r\"C:\\Users\\UK19759\\OneDrive - Nissan Motor Corporation\\Desktop\\Machine Learning\\state-farm-distracted-driver-detection\\imgs\",\"train\")\n",
    "MODEL_PATH = os.path.join(os.getcwd(),\"model\",\"self_trained\")\n",
    "\n",
    "if not os.path.exists(TEST_DIR):\n",
    "    print(\"Testing data does not exist\")\n",
    "if not os.path.exists(TRAIN_DIR):\n",
    "    print(\"Training data does not exist\")\n",
    "if not os.path.exists(MODEL_PATH):\n",
    "    print(\"Model path does not exist\")\n",
    "    os.makedirs(MODEL_PATH)\n",
    "    print(\"Model path created\")"
   ]
  },
  {
   "cell_type": "code",
   "execution_count": 10,
   "id": "563bd8b9",
   "metadata": {},
   "outputs": [],
   "source": [
    "def create_csv(DATA_DIR,filename):\n",
    "    class_names = os.listdir(DATA_DIR)\n",
    "    data = list()\n",
    "    if(os.path.isdir(os.path.join(DATA_DIR,class_names[0]))):\n",
    "        for class_name in class_names:\n",
    "            file_names = os.listdir(os.path.join(DATA_DIR,class_name))\n",
    "            for file in file_names:\n",
    "                data.append({\n",
    "                    \"Filename\":os.path.join(DATA_DIR,class_name,file),\n",
    "                    \"ClassName\":class_name\n",
    "                })\n",
    "    else:\n",
    "        class_name = \"test\"\n",
    "        file_names = os.listdir(DATA_DIR)\n",
    "        for file in file_names:\n",
    "            data.append(({\n",
    "                \"FileName\":os.path.join(DATA_DIR,file),\n",
    "                \"ClassName\":class_name\n",
    "            }))\n",
    "    data = pd.DataFrame(data)\n",
    "    data.to_csv(os.path.join(os.getcwd(),\"csv_files\",filename),index=False)\n",
    "CSV_FILES_DIR = os.path.join(os.getcwd(),\"csv_files\")\n",
    "if not os.path.exists(CSV_FILES_DIR):\n",
    "    os.makedirs(CSV_FILES_DIR)\n",
    "    \n",
    "create_csv(TRAIN_DIR,\"train.csv\")\n",
    "create_csv(TEST_DIR,\"test.csv\")\n",
    "\n",
    "data_train = pd.read_csv(os.path.join(os.getcwd(),\"csv_files\",\"train.csv\"))\n",
    "data_test = pd.read_csv(os.path.join(os.getcwd(),\"csv_files\",\"test.csv\"))"
   ]
  },
  {
   "cell_type": "markdown",
   "id": "850d1e8b",
   "metadata": {},
   "source": [
    "### Check Training Data"
   ]
  },
  {
   "cell_type": "code",
   "execution_count": 11,
   "id": "5ee69dfb",
   "metadata": {},
   "outputs": [
    {
     "data": {
      "text/plain": [
       "c0    2489\n",
       "c3    2346\n",
       "c4    2326\n",
       "c6    2325\n",
       "c2    2317\n",
       "c5    2312\n",
       "c1    2267\n",
       "c9    2129\n",
       "c7    2002\n",
       "c8    1911\n",
       "Name: ClassName, dtype: int64"
      ]
     },
     "execution_count": 11,
     "metadata": {},
     "output_type": "execute_result"
    }
   ],
   "source": [
    "data_train['ClassName'].value_counts()"
   ]
  },
  {
   "cell_type": "code",
   "execution_count": 12,
   "id": "d59fa8bd",
   "metadata": {},
   "outputs": [
    {
     "data": {
      "image/png": "[encoded data removed]",
      "text/plain": [
       "<Figure size 576x576 with 1 Axes>"
      ]
     },
     "metadata": {
      "needs_background": "light"
     },
     "output_type": "display_data"
    }
   ],
   "source": [
    "nf = data_train['ClassName'].value_counts(sort=False)\n",
    "labels = data_train['ClassName'].value_counts(sort=False).index.tolist()\n",
    "y = np.array(nf)\n",
    "width = 1/1.5\n",
    "N = len(y)\n",
    "x = range(N)\n",
    "\n",
    "fig = plt.figure(figsize=(8,8))\n",
    "ay = fig.add_subplot(211)\n",
    "\n",
    "plt.xticks(x, labels, size=10)\n",
    "plt.yticks(size=10)\n",
    "\n",
    "ay.bar(x, y, width, color = 'lightpink')\n",
    "\n",
    "plt.xlabel('Classname',size=10)\n",
    "plt.ylabel('Count',size=10)\n",
    "\n",
    "plt.show()"
   ]
  },
  {
   "cell_type": "code",
   "execution_count": 13,
   "id": "1dcb4695",
   "metadata": {},
   "outputs": [
    {
     "data": {
      "text/html": [
       "<div>\n",
       "<style scoped>\n",
       "    .dataframe tbody tr th:only-of-type {\n",
       "        vertical-align: middle;\n",
       "    }\n",
       "\n",
       "    .dataframe tbody tr th {\n",
       "        vertical-align: top;\n",
       "    }\n",
       "\n",
       "    .dataframe thead th {\n",
       "        text-align: right;\n",
       "    }\n",
       "</style>\n",
       "<table border=\"1\" class=\"dataframe\">\n",
       "  <thead>\n",
       "    <tr style=\"text-align: right;\">\n",
       "      <th></th>\n",
       "      <th>FileName</th>\n",
       "      <th>ClassName</th>\n",
       "    </tr>\n",
       "  </thead>\n",
       "  <tbody>\n",
       "    <tr>\n",
       "      <th>0</th>\n",
       "      <td>C:\\Users\\UK19759\\OneDrive - Nissan Motor Corpo...</td>\n",
       "      <td>test</td>\n",
       "    </tr>\n",
       "    <tr>\n",
       "      <th>1</th>\n",
       "      <td>C:\\Users\\UK19759\\OneDrive - Nissan Motor Corpo...</td>\n",
       "      <td>test</td>\n",
       "    </tr>\n",
       "    <tr>\n",
       "      <th>2</th>\n",
       "      <td>C:\\Users\\UK19759\\OneDrive - Nissan Motor Corpo...</td>\n",
       "      <td>test</td>\n",
       "    </tr>\n",
       "    <tr>\n",
       "      <th>3</th>\n",
       "      <td>C:\\Users\\UK19759\\OneDrive - Nissan Motor Corpo...</td>\n",
       "      <td>test</td>\n",
       "    </tr>\n",
       "    <tr>\n",
       "      <th>4</th>\n",
       "      <td>C:\\Users\\UK19759\\OneDrive - Nissan Motor Corpo...</td>\n",
       "      <td>test</td>\n",
       "    </tr>\n",
       "  </tbody>\n",
       "</table>\n",
       "</div>"
      ],
      "text/plain": [
       "                                            FileName ClassName\n",
       "0  C:\\Users\\UK19759\\OneDrive - Nissan Motor Corpo...      test\n",
       "1  C:\\Users\\UK19759\\OneDrive - Nissan Motor Corpo...      test\n",
       "2  C:\\Users\\UK19759\\OneDrive - Nissan Motor Corpo...      test\n",
       "3  C:\\Users\\UK19759\\OneDrive - Nissan Motor Corpo...      test\n",
       "4  C:\\Users\\UK19759\\OneDrive - Nissan Motor Corpo...      test"
      ]
     },
     "execution_count": 13,
     "metadata": {},
     "output_type": "execute_result"
    }
   ],
   "source": [
    "data_test.head()"
   ]
  },
  {
   "cell_type": "markdown",
   "id": "b089111b",
   "metadata": {},
   "source": [
    "### Data Pre-processing"
   ]
  },
  {
   "cell_type": "code",
   "execution_count": 14,
   "id": "d18221a0",
   "metadata": {},
   "outputs": [
    {
     "name": "stdout",
     "output_type": "stream",
     "text": [
      "{'c6': 0, 'c0': 1, 'c7': 2, 'c3': 3, 'c4': 4, 'c8': 5, 'c1': 6, 'c5': 7, 'c2': 8, 'c9': 9}\n"
     ]
    }
   ],
   "source": [
    "#convert labels to numerical values \n",
    "labels_list = list(set(data_train['ClassName'].values.tolist()))\n",
    "labels_id = {label_name:id for id,label_name in enumerate(labels_list)}\n",
    "print(labels_id)\n",
    "data_train['ClassName'].replace(labels_id,inplace=True)"
   ]
  },
  {
   "cell_type": "code",
   "execution_count": 15,
   "id": "9f9d182e",
   "metadata": {},
   "outputs": [
    {
     "name": "stdout",
     "output_type": "stream",
     "text": [
      "(22424, 10)\n"
     ]
    }
   ],
   "source": [
    "#convert class vector to binary class matrix\n",
    "labels = to_categorical(data_train['ClassName'])\n",
    "print(labels.shape)"
   ]
  },
  {
   "cell_type": "code",
   "execution_count": 16,
   "id": "b9176d80",
   "metadata": {},
   "outputs": [],
   "source": [
    "from sklearn.model_selection import train_test_split\n",
    "\n",
    "xtrain,xtest,ytrain,ytest = train_test_split(data_train.iloc[:,0],labels,test_size = 0.25,random_state=0)"
   ]
  },
  {
   "cell_type": "markdown",
   "id": "6cd6ee4d",
   "metadata": {},
   "source": [
    "### Data Preparation\n",
    "\n",
    "1) Convert all the train and test images to the same size   \n",
    "2) Standardise the flattened image vector"
   ]
  },
  {
   "cell_type": "code",
   "execution_count": 17,
   "id": "778e6e71",
   "metadata": {},
   "outputs": [],
   "source": [
    "def path_to_tensor(img_path):\n",
    "    # loads image as PIL.Image type\n",
    "    img = image.load_img(img_path, target_size=(64, 64))\n",
    "    # convert PIL.Image type to 3D tensor with shape (64, 64, 3)\n",
    "    tens_img = image.img_to_array(img)\n",
    "    # convert 3D tensor to 4D with shape (1, 64, 64, 3) \n",
    "    return np.expand_dims(tens_img, axis=0)\n",
    "\n",
    "def paths_to_tensor(img_paths):\n",
    "    list_of_tensors = [path_to_tensor(img_path) for img_path in tqdm(img_paths)]\n",
    "    return np.vstack(list_of_tensors)"
   ]
  },
  {
   "cell_type": "code",
   "execution_count": 18,
   "id": "d6f2f776",
   "metadata": {},
   "outputs": [
    {
     "name": "stderr",
     "output_type": "stream",
     "text": [
      "100%|██████████| 16818/16818 [02:12<00:00, 127.01it/s]\n"
     ]
    }
   ],
   "source": [
    "from PIL import ImageFile                            \n",
    "ImageFile.LOAD_TRUNCATED_IMAGES = True                 \n",
    "\n",
    "# pre-process the data\n",
    "train_tensors = paths_to_tensor(xtrain).astype('float32')/255 - 0.5"
   ]
  },
  {
   "cell_type": "code",
   "execution_count": 19,
   "id": "eaf0ca35",
   "metadata": {},
   "outputs": [
    {
     "name": "stderr",
     "output_type": "stream",
     "text": [
      "100%|██████████| 5606/5606 [00:35<00:00, 158.48it/s]\n"
     ]
    }
   ],
   "source": [
    "valid_tensors = paths_to_tensor(xtest).astype('float32')/255 - 0.5"
   ]
  },
  {
   "cell_type": "markdown",
   "id": "e92dfc64",
   "metadata": {},
   "source": [
    "## Defining Model Architecture\n",
    "\n",
    "### Convolutional Neural Network (CNN)\n",
    "CNNs are a type of Artificial Neural Networks. CNNs are mostly used for the analysis of visual data and assume that the inputs are structured data (commonly represented as gray-scale or RGB images, such as those within the Distracted Driver dataset), which allow us to encode certain properties into the architecture. These then make the forward function more efficient to implement and reduce the number of parameters within the network.\n",
    "\n",
    "![CNN](Imgs/Cat1.png)\n",
    "\n",
    "### Convolutional Layer \n",
    "The Convolutional Layer is the core of the Convolutional Neural Network architecture. Convolution is the application of a filter to an input that results in activation. Repeated application of the same filter to an input results in a map of activations called a feature map. Each filter creates its own feature map and the number of filters specifies the depth of the layer. \n",
    "\n",
    "The main parameters of the Convolutional layer are:   \n",
    "•\tKernel Size - Specifies the dimension of convolution mask.    \n",
    "•\tFilters - Specifies the number of filters and depth of output.  \n",
    "•\tStrides - Specifies how much should we shift the convolution filter after each operation.     \n",
    "### Pooling Layer\n",
    " The Pooling Layer compresses the information propagated to the following level of the network, therefore reducing the number of parameters and computational complexity. \n",
    "### Dense (ReLU) Layer\n",
    "The rectified linear activation function is a linear function that will output the input directly if it is positive, otherwise, it will output zero.\n",
    "### Dense (Softmax) Layer\n",
    "The Softmax layer is usually used as the last layer in a mutually exclusive classification task, where the output vector is to be presented as the probability distribution that the input belongs to a particular class. It takes the Softmax function as an input vector of real numbers and normalises it into a probability distribution.\n"
   ]
  },
  {
   "cell_type": "code",
   "execution_count": 20,
   "id": "3b186e0c",
   "metadata": {
    "scrolled": true
   },
   "outputs": [
    {
     "name": "stdout",
     "output_type": "stream",
     "text": [
      "Model: \"sequential\"\n",
      "_________________________________________________________________\n",
      " Layer (type)                Output Shape              Param #   \n",
      "=================================================================\n",
      " conv2d (Conv2D)             (None, 64, 64, 4)         52        \n",
      "                                                                 \n",
      " max_pooling2d (MaxPooling2D  (None, 32, 32, 4)        0         \n",
      " )                                                               \n",
      "                                                                 \n",
      " conv2d_1 (Conv2D)           (None, 32, 32, 8)         136       \n",
      "                                                                 \n",
      " max_pooling2d_1 (MaxPooling  (None, 16, 16, 8)        0         \n",
      " 2D)                                                             \n",
      "                                                                 \n",
      " conv2d_2 (Conv2D)           (None, 16, 16, 16)        528       \n",
      "                                                                 \n",
      " max_pooling2d_2 (MaxPooling  (None, 8, 8, 16)         0         \n",
      " 2D)                                                             \n",
      "                                                                 \n",
      " dropout (Dropout)           (None, 8, 8, 16)          0         \n",
      "                                                                 \n",
      " flatten (Flatten)           (None, 1024)              0         \n",
      "                                                                 \n",
      " dense (Dense)               (None, 100)               102500    \n",
      "                                                                 \n",
      " dropout_1 (Dropout)         (None, 100)               0         \n",
      "                                                                 \n",
      " dense_1 (Dense)             (None, 10)                1010      \n",
      "                                                                 \n",
      "=================================================================\n",
      "Total params: 104,226\n",
      "Trainable params: 104,226\n",
      "Non-trainable params: 0\n",
      "_________________________________________________________________\n"
     ]
    }
   ],
   "source": [
    "model = Sequential()\n",
    "# Convolutional & Pooling Layers\n",
    "model.add(Conv2D(filters=4, kernel_size=2, padding='same', activation='relu', input_shape=(64,64,3), kernel_initializer='glorot_normal'))\n",
    "model.add(MaxPooling2D(pool_size=2)) #Maxpool\n",
    "model.add(Conv2D(filters=8, kernel_size=2, padding='same', activation='relu', kernel_initializer='glorot_normal'))\n",
    "model.add(MaxPooling2D(pool_size=2)) #Maxpool\n",
    "model.add(Conv2D(filters=16, kernel_size=2, padding='same', activation='relu', kernel_initializer='glorot_normal'))\n",
    "model.add(MaxPooling2D(pool_size=2)) #Maxpool\n",
    "model.add(Dropout(0.5))\n",
    "model.add(Flatten())\n",
    "\n",
    "# Dense layer\n",
    "model.add(Dense(100, activation='relu', kernel_initializer='glorot_normal'))\n",
    "model.add(Dropout(0.5))\n",
    "model.add(Dense(10, activation='softmax', kernel_initializer='glorot_normal'))\n",
    "\n",
    "model.summary()"
   ]
  },
  {
   "cell_type": "code",
   "execution_count": 2,
   "id": "34e1b1a1",
   "metadata": {
    "scrolled": true
   },
   "outputs": [],
   "source": [
    "#plot_model(model,to_file=os.path.join(MODEL_PATH,\"model_distracted_driver.png\"),show_shapes=True,show_layer_names=True)"
   ]
  },
  {
   "cell_type": "markdown",
   "id": "720f39cd",
   "metadata": {},
   "source": [
    "## Compile & Train Model\n",
    "\n",
    "For this multi-class problem, the rmsprop optimizer and categorical crossentropy loss string paramater will be used. This restricts the oscillations in the vertical direction and selects a single category (out of many) as the output. \n",
    "A low epoch value will be used (epoch=10) to avoid unneccsessarily long training times, should the model be inaccurate. "
   ]
  },
  {
   "cell_type": "code",
   "execution_count": 22,
   "id": "17ec685b",
   "metadata": {},
   "outputs": [
    {
     "name": "stdout",
     "output_type": "stream",
     "text": [
      "WARNING:tensorflow:`period` argument is deprecated. Please use `save_freq` to specify the frequency in number of batches seen.\n",
      "Epoch 1/10\n",
      "419/421 [============================>.] - ETA: 0s - loss: 1.9962 - accuracy: 0.2781\n",
      "Epoch 00001: val_accuracy improved from -inf to 0.59971, saving model to C:\\Users\\UK19759\\Machine Learning\\model\\self_trained\\distracted-01-0.60.hdf5\n",
      "421/421 [==============================] - 10s 23ms/step - loss: 1.9947 - accuracy: 0.2785 - val_loss: 1.3616 - val_accuracy: 0.5997\n",
      "Epoch 2/10\n",
      "419/421 [============================>.] - ETA: 0s - loss: 1.4019 - accuracy: 0.5173\n",
      "Epoch 00002: val_accuracy improved from 0.59971 to 0.76168, saving model to C:\\Users\\UK19759\\Machine Learning\\model\\self_trained\\distracted-02-0.76.hdf5\n",
      "421/421 [==============================] - 11s 27ms/step - loss: 1.4010 - accuracy: 0.5178 - val_loss: 0.8994 - val_accuracy: 0.7617\n",
      "Epoch 3/10\n",
      "420/421 [============================>.] - ETA: 0s - loss: 1.1191 - accuracy: 0.6180\n",
      "Epoch 00003: val_accuracy improved from 0.76168 to 0.83928, saving model to C:\\Users\\UK19759\\Machine Learning\\model\\self_trained\\distracted-03-0.84.hdf5\n",
      "421/421 [==============================] - 11s 27ms/step - loss: 1.1189 - accuracy: 0.6181 - val_loss: 0.6463 - val_accuracy: 0.8393\n",
      "Epoch 4/10\n",
      "419/421 [============================>.] - ETA: 0s - loss: 0.9538 - accuracy: 0.6769\n",
      "Epoch 00004: val_accuracy improved from 0.83928 to 0.89458, saving model to C:\\Users\\UK19759\\Machine Learning\\model\\self_trained\\distracted-04-0.89.hdf5\n",
      "421/421 [==============================] - 12s 28ms/step - loss: 0.9540 - accuracy: 0.6767 - val_loss: 0.4999 - val_accuracy: 0.8946\n",
      "Epoch 5/10\n",
      "419/421 [============================>.] - ETA: 0s - loss: 0.8388 - accuracy: 0.7209\n",
      "Epoch 00005: val_accuracy improved from 0.89458 to 0.91848, saving model to C:\\Users\\UK19759\\Machine Learning\\model\\self_trained\\distracted-05-0.92.hdf5\n",
      "421/421 [==============================] - 12s 28ms/step - loss: 0.8387 - accuracy: 0.7209 - val_loss: 0.3997 - val_accuracy: 0.9185\n",
      "Epoch 6/10\n",
      "420/421 [============================>.] - ETA: 0s - loss: 0.7491 - accuracy: 0.7481\n",
      "Epoch 00006: val_accuracy improved from 0.91848 to 0.92205, saving model to C:\\Users\\UK19759\\Machine Learning\\model\\self_trained\\distracted-06-0.92.hdf5\n",
      "421/421 [==============================] - 11s 27ms/step - loss: 0.7495 - accuracy: 0.7481 - val_loss: 0.3366 - val_accuracy: 0.9220\n",
      "Epoch 7/10\n",
      "419/421 [============================>.] - ETA: 0s - loss: 0.6946 - accuracy: 0.7717\n",
      "Epoch 00007: val_accuracy improved from 0.92205 to 0.94363, saving model to C:\\Users\\UK19759\\Machine Learning\\model\\self_trained\\distracted-07-0.94.hdf5\n",
      "421/421 [==============================] - 12s 28ms/step - loss: 0.6946 - accuracy: 0.7719 - val_loss: 0.2651 - val_accuracy: 0.9436\n",
      "Epoch 8/10\n",
      "421/421 [==============================] - ETA: 0s - loss: 0.6502 - accuracy: 0.7855\n",
      "Epoch 00008: val_accuracy improved from 0.94363 to 0.95202, saving model to C:\\Users\\UK19759\\Machine Learning\\model\\self_trained\\distracted-08-0.95.hdf5\n",
      "421/421 [==============================] - 12s 28ms/step - loss: 0.6502 - accuracy: 0.7855 - val_loss: 0.2342 - val_accuracy: 0.9520\n",
      "Epoch 9/10\n",
      "420/421 [============================>.] - ETA: 0s - loss: 0.6067 - accuracy: 0.7983\n",
      "Epoch 00009: val_accuracy improved from 0.95202 to 0.95237, saving model to C:\\Users\\UK19759\\Machine Learning\\model\\self_trained\\distracted-09-0.95.hdf5\n",
      "421/421 [==============================] - 12s 28ms/step - loss: 0.6072 - accuracy: 0.7982 - val_loss: 0.2299 - val_accuracy: 0.9524\n",
      "Epoch 10/10\n",
      "420/421 [============================>.] - ETA: 0s - loss: 0.5765 - accuracy: 0.8122\n",
      "Epoch 00010: val_accuracy improved from 0.95237 to 0.95933, saving model to C:\\Users\\UK19759\\Machine Learning\\model\\self_trained\\distracted-10-0.96.hdf5\n",
      "421/421 [==============================] - 12s 27ms/step - loss: 0.5765 - accuracy: 0.8122 - val_loss: 0.2124 - val_accuracy: 0.9593\n"
     ]
    }
   ],
   "source": [
    "model.compile(optimizer='rmsprop', loss='categorical_crossentropy', metrics=['accuracy'])\n",
    "\n",
    "filepath = os.path.join(MODEL_PATH,\"distracted-{epoch:02d}-{val_accuracy:.2f}.hdf5\")\n",
    "\n",
    "checkpoint = ModelCheckpoint(filepath, monitor='val_accuracy', verbose=1, save_best_only=True, mode='max',period=1)\n",
    "callbacks_list = [checkpoint]\n",
    "epochs = 10\n",
    "model_history = model.fit(train_tensors,ytrain,validation_data = (valid_tensors, ytest),epochs=epochs, batch_size=40, shuffle=True,callbacks=callbacks_list)"
   ]
  },
  {
   "cell_type": "markdown",
   "id": "42f9489c",
   "metadata": {},
   "source": [
    "### Model Performance Graph\n",
    "\n",
    "Training vs Validation and Training Accuracy vs Validation Accuracy were plotted. The model should be complex enough to capture relevant information in the training data, but avoid overfitting. "
   ]
  },
  {
   "cell_type": "code",
   "execution_count": 23,
   "id": "6ae99056",
   "metadata": {},
   "outputs": [
    {
     "data": {
      "image/png": "[encoded data removed]",
      "text/plain": [
       "<Figure size 720x720 with 2 Axes>"
      ]
     },
     "metadata": {
      "needs_background": "light"
     },
     "output_type": "display_data"
    }
   ],
   "source": [
    "fig, (ax1, ax2) = plt.subplots(2, 1, figsize=(10, 10))\n",
    "ax1.plot(model_history.history['loss'], color='c', label=\"Training Loss\")\n",
    "ax1.plot(model_history.history['val_loss'], color='m', label=\"Validation Loss\")\n",
    "ax1.set_xticks(np.arange(1, 12, 1))\n",
    "ax1.set_yticks(np.arange(0, 2.1, 0.1))\n",
    "\n",
    "ax2.plot(model_history.history['accuracy'], color='c', label=\"Training Accuracy\")\n",
    "ax2.plot(model_history.history['val_accuracy'], color='m',label=\"Validation Accuracy\")\n",
    "ax2.set_xticks(np.arange(1, 12, 1))\n",
    "\n",
    "legend = plt.legend(loc='lower right', shadow=True)\n",
    "plt.tight_layout()\n",
    "plt.show()"
   ]
  },
  {
   "cell_type": "markdown",
   "id": "fab9d65c",
   "metadata": {},
   "source": [
    "The graphs show that the model is too simple and doesn't converge quickly enough. The complexity of the hyperparameters will be increased (increase filter values) and more epochs (20) added to allow the model more time to improve. "
   ]
  },
  {
   "cell_type": "code",
   "execution_count": 24,
   "id": "d7368c24",
   "metadata": {},
   "outputs": [
    {
     "name": "stdout",
     "output_type": "stream",
     "text": [
      "Model: \"sequential_1\"\n",
      "_________________________________________________________________\n",
      " Layer (type)                Output Shape              Param #   \n",
      "=================================================================\n",
      " conv2d_3 (Conv2D)           (None, 64, 64, 32)        416       \n",
      "                                                                 \n",
      " max_pooling2d_3 (MaxPooling  (None, 32, 32, 32)       0         \n",
      " 2D)                                                             \n",
      "                                                                 \n",
      " conv2d_4 (Conv2D)           (None, 32, 32, 64)        8256      \n",
      "                                                                 \n",
      " max_pooling2d_4 (MaxPooling  (None, 16, 16, 64)       0         \n",
      " 2D)                                                             \n",
      "                                                                 \n",
      " conv2d_5 (Conv2D)           (None, 16, 16, 128)       32896     \n",
      "                                                                 \n",
      " max_pooling2d_5 (MaxPooling  (None, 8, 8, 128)        0         \n",
      " 2D)                                                             \n",
      "                                                                 \n",
      " conv2d_6 (Conv2D)           (None, 8, 8, 256)         131328    \n",
      "                                                                 \n",
      " max_pooling2d_6 (MaxPooling  (None, 4, 4, 256)        0         \n",
      " 2D)                                                             \n",
      "                                                                 \n",
      " dropout_2 (Dropout)         (None, 4, 4, 256)         0         \n",
      "                                                                 \n",
      " flatten_1 (Flatten)         (None, 4096)              0         \n",
      "                                                                 \n",
      " dense_2 (Dense)             (None, 100)               409700    \n",
      "                                                                 \n",
      " dropout_3 (Dropout)         (None, 100)               0         \n",
      "                                                                 \n",
      " dense_3 (Dense)             (None, 10)                1010      \n",
      "                                                                 \n",
      "=================================================================\n",
      "Total params: 583,606\n",
      "Trainable params: 583,606\n",
      "Non-trainable params: 0\n",
      "_________________________________________________________________\n"
     ]
    }
   ],
   "source": [
    "model_two = Sequential()\n",
    "# Convolutional & Pooling Layers\n",
    "model_two.add(Conv2D(filters=32, kernel_size=2, padding='same', activation='relu', input_shape=(64,64,3), kernel_initializer='glorot_normal'))\n",
    "model_two.add(MaxPooling2D(pool_size=2)) #Maxpool\n",
    "model_two.add(Conv2D(filters=64, kernel_size=2, padding='same', activation='relu', kernel_initializer='glorot_normal'))\n",
    "model_two.add(MaxPooling2D(pool_size=2)) #Maxpool\n",
    "model_two.add(Conv2D(filters=128, kernel_size=2, padding='same', activation='relu', kernel_initializer='glorot_normal'))\n",
    "model_two.add(MaxPooling2D(pool_size=2)) #Maxpool\n",
    "model_two.add(Conv2D(filters=256, kernel_size=2, padding='same', activation='relu', kernel_initializer='glorot_normal'))\n",
    "model_two.add(MaxPooling2D(pool_size=2)) #Maxpool\n",
    "model_two.add(Dropout(0.5))\n",
    "model_two.add(Flatten())\n",
    "\n",
    "# Dense Layers\n",
    "model_two.add(Dense(100, activation='relu', kernel_initializer='glorot_normal'))\n",
    "model_two.add(Dropout(0.5))\n",
    "model_two.add(Dense(10, activation='softmax', kernel_initializer='glorot_normal'))\n",
    "\n",
    "model_two.summary()"
   ]
  },
  {
   "cell_type": "code",
   "execution_count": 25,
   "id": "d26caad7",
   "metadata": {},
   "outputs": [
    {
     "name": "stdout",
     "output_type": "stream",
     "text": [
      "WARNING:tensorflow:`period` argument is deprecated. Please use `save_freq` to specify the frequency in number of batches seen.\n",
      "Epoch 1/20\n",
      "421/421 [==============================] - ETA: 0s - loss: 1.4734 - accuracy: 0.4669\n",
      "Epoch 00001: val_accuracy improved from -inf to 0.79379, saving model to C:\\Users\\UK19759\\Machine Learning\\model\\self_trained\\distracted-01-0.79.hdf5\n",
      "421/421 [==============================] - 55s 129ms/step - loss: 1.4734 - accuracy: 0.4669 - val_loss: 0.6395 - val_accuracy: 0.7938\n",
      "Epoch 2/20\n",
      "421/421 [==============================] - ETA: 0s - loss: 0.5923 - accuracy: 0.8012\n",
      "Epoch 00002: val_accuracy improved from 0.79379 to 0.94363, saving model to C:\\Users\\UK19759\\Machine Learning\\model\\self_trained\\distracted-02-0.94.hdf5\n",
      "421/421 [==============================] - 54s 128ms/step - loss: 0.5923 - accuracy: 0.8012 - val_loss: 0.2499 - val_accuracy: 0.9436\n",
      "Epoch 3/20\n",
      "421/421 [==============================] - ETA: 0s - loss: 0.3235 - accuracy: 0.9005\n",
      "Epoch 00003: val_accuracy improved from 0.94363 to 0.94417, saving model to C:\\Users\\UK19759\\Machine Learning\\model\\self_trained\\distracted-03-0.94.hdf5\n",
      "421/421 [==============================] - 54s 129ms/step - loss: 0.3235 - accuracy: 0.9005 - val_loss: 0.1780 - val_accuracy: 0.9442\n",
      "Epoch 4/20\n",
      "421/421 [==============================] - ETA: 0s - loss: 0.2143 - accuracy: 0.9351\n",
      "Epoch 00004: val_accuracy improved from 0.94417 to 0.97931, saving model to C:\\Users\\UK19759\\Machine Learning\\model\\self_trained\\distracted-04-0.98.hdf5\n",
      "421/421 [==============================] - 54s 128ms/step - loss: 0.2143 - accuracy: 0.9351 - val_loss: 0.0797 - val_accuracy: 0.9793\n",
      "Epoch 5/20\n",
      "421/421 [==============================] - ETA: 0s - loss: 0.1654 - accuracy: 0.9530\n",
      "Epoch 00005: val_accuracy improved from 0.97931 to 0.98305, saving model to C:\\Users\\UK19759\\Machine Learning\\model\\self_trained\\distracted-05-0.98.hdf5\n",
      "421/421 [==============================] - 54s 128ms/step - loss: 0.1654 - accuracy: 0.9530 - val_loss: 0.0753 - val_accuracy: 0.9831\n",
      "Epoch 6/20\n",
      "421/421 [==============================] - ETA: 0s - loss: 0.1301 - accuracy: 0.9605\n",
      "Epoch 00006: val_accuracy improved from 0.98305 to 0.98662, saving model to C:\\Users\\UK19759\\Machine Learning\\model\\self_trained\\distracted-06-0.99.hdf5\n",
      "421/421 [==============================] - 54s 127ms/step - loss: 0.1301 - accuracy: 0.9605 - val_loss: 0.0622 - val_accuracy: 0.9866\n",
      "Epoch 7/20\n",
      "421/421 [==============================] - ETA: 0s - loss: 0.1139 - accuracy: 0.9681\n",
      "Epoch 00007: val_accuracy did not improve from 0.98662\n",
      "421/421 [==============================] - 54s 127ms/step - loss: 0.1139 - accuracy: 0.9681 - val_loss: 0.0650 - val_accuracy: 0.9866\n",
      "Epoch 8/20\n",
      "421/421 [==============================] - ETA: 0s - loss: 0.1063 - accuracy: 0.9690\n",
      "Epoch 00008: val_accuracy improved from 0.98662 to 0.98680, saving model to C:\\Users\\UK19759\\Machine Learning\\model\\self_trained\\distracted-08-0.99.hdf5\n",
      "421/421 [==============================] - 54s 128ms/step - loss: 0.1063 - accuracy: 0.9690 - val_loss: 0.0632 - val_accuracy: 0.9868\n",
      "Epoch 9/20\n",
      "421/421 [==============================] - ETA: 0s - loss: 0.0974 - accuracy: 0.9720\n",
      "Epoch 00009: val_accuracy improved from 0.98680 to 0.98769, saving model to C:\\Users\\UK19759\\Machine Learning\\model\\self_trained\\distracted-09-0.99.hdf5\n",
      "421/421 [==============================] - 54s 128ms/step - loss: 0.0974 - accuracy: 0.9720 - val_loss: 0.0561 - val_accuracy: 0.9877\n",
      "Epoch 10/20\n",
      "421/421 [==============================] - ETA: 0s - loss: 0.0859 - accuracy: 0.9749\n",
      "Epoch 00010: val_accuracy improved from 0.98769 to 0.98948, saving model to C:\\Users\\UK19759\\Machine Learning\\model\\self_trained\\distracted-10-0.99.hdf5\n",
      "421/421 [==============================] - 54s 128ms/step - loss: 0.0859 - accuracy: 0.9749 - val_loss: 0.0515 - val_accuracy: 0.9895\n",
      "Epoch 11/20\n",
      "421/421 [==============================] - ETA: 0s - loss: 0.0840 - accuracy: 0.9770\n",
      "Epoch 00011: val_accuracy did not improve from 0.98948\n",
      "421/421 [==============================] - 54s 128ms/step - loss: 0.0840 - accuracy: 0.9770 - val_loss: 0.0732 - val_accuracy: 0.9893\n",
      "Epoch 12/20\n",
      "421/421 [==============================] - ETA: 0s - loss: 0.0872 - accuracy: 0.9754\n",
      "Epoch 00012: val_accuracy did not improve from 0.98948\n",
      "421/421 [==============================] - 54s 128ms/step - loss: 0.0872 - accuracy: 0.9754 - val_loss: 0.0668 - val_accuracy: 0.9856\n",
      "Epoch 13/20\n",
      "421/421 [==============================] - ETA: 0s - loss: 0.0831 - accuracy: 0.9754\n",
      "Epoch 00013: val_accuracy did not improve from 0.98948\n",
      "421/421 [==============================] - 54s 128ms/step - loss: 0.0831 - accuracy: 0.9754 - val_loss: 0.0770 - val_accuracy: 0.9872\n",
      "Epoch 14/20\n",
      "421/421 [==============================] - ETA: 0s - loss: 0.0927 - accuracy: 0.9757\n",
      "Epoch 00014: val_accuracy did not improve from 0.98948\n",
      "421/421 [==============================] - 54s 127ms/step - loss: 0.0927 - accuracy: 0.9757 - val_loss: 0.0533 - val_accuracy: 0.9880\n",
      "Epoch 15/20\n",
      "421/421 [==============================] - ETA: 0s - loss: 0.0859 - accuracy: 0.9760\n",
      "Epoch 00015: val_accuracy improved from 0.98948 to 0.99108, saving model to C:\\Users\\UK19759\\Machine Learning\\model\\self_trained\\distracted-15-0.99.hdf5\n",
      "421/421 [==============================] - 54s 127ms/step - loss: 0.0859 - accuracy: 0.9760 - val_loss: 0.0486 - val_accuracy: 0.9911\n",
      "Epoch 16/20\n",
      "421/421 [==============================] - ETA: 0s - loss: 0.1000 - accuracy: 0.9759\n",
      "Epoch 00016: val_accuracy did not improve from 0.99108\n",
      "421/421 [==============================] - 53s 127ms/step - loss: 0.1000 - accuracy: 0.9759 - val_loss: 0.0556 - val_accuracy: 0.9868\n",
      "Epoch 17/20\n",
      "421/421 [==============================] - ETA: 0s - loss: 0.0947 - accuracy: 0.9766\n",
      "Epoch 00017: val_accuracy did not improve from 0.99108\n",
      "421/421 [==============================] - 53s 127ms/step - loss: 0.0947 - accuracy: 0.9766 - val_loss: 0.0641 - val_accuracy: 0.9900\n",
      "Epoch 18/20\n",
      "421/421 [==============================] - ETA: 0s - loss: 0.0932 - accuracy: 0.9762\n",
      "Epoch 00018: val_accuracy did not improve from 0.99108\n",
      "421/421 [==============================] - 54s 127ms/step - loss: 0.0932 - accuracy: 0.9762 - val_loss: 0.0605 - val_accuracy: 0.9889\n",
      "Epoch 19/20\n",
      "421/421 [==============================] - ETA: 0s - loss: 0.0953 - accuracy: 0.9763\n",
      "Epoch 00019: val_accuracy did not improve from 0.99108\n",
      "421/421 [==============================] - 53s 127ms/step - loss: 0.0953 - accuracy: 0.9763 - val_loss: 0.0737 - val_accuracy: 0.9875\n",
      "Epoch 20/20\n",
      "421/421 [==============================] - ETA: 0s - loss: 0.0936 - accuracy: 0.9746\n",
      "Epoch 00020: val_accuracy did not improve from 0.99108\n",
      "421/421 [==============================] - 53s 127ms/step - loss: 0.0936 - accuracy: 0.9746 - val_loss: 0.0519 - val_accuracy: 0.9905\n"
     ]
    }
   ],
   "source": [
    "model_two.compile(optimizer='rmsprop', loss='categorical_crossentropy', metrics=['accuracy'])\n",
    "\n",
    "filepath = os.path.join(MODEL_PATH,\"distracted-{epoch:02d}-{val_accuracy:.2f}.hdf5\")\n",
    "\n",
    "checkpoint = ModelCheckpoint(filepath, monitor='val_accuracy', verbose=1, save_best_only=True, mode='max',period=1)\n",
    "callbacks_list = [checkpoint]\n",
    "epochs =20\n",
    "model_two_history = model_two.fit(train_tensors,ytrain,validation_data = (valid_tensors, ytest),epochs=epochs, batch_size=40, shuffle=True,callbacks=callbacks_list)"
   ]
  },
  {
   "cell_type": "code",
   "execution_count": 26,
   "id": "b16a553c",
   "metadata": {},
   "outputs": [
    {
     "data": {
      "image/png": "[encoded data removed]",
      "text/plain": [
       "<Figure size 720x720 with 2 Axes>"
      ]
     },
     "metadata": {
      "needs_background": "light"
     },
     "output_type": "display_data"
    }
   ],
   "source": [
    "fig, (ax1, ax2) = plt.subplots(2, 1, figsize=(10, 10))\n",
    "ax1.plot(model_two_history.history['loss'], color='c', label=\"Training Loss\")\n",
    "ax1.plot(model_two_history.history['val_loss'], color='m', label=\"Validation Loss\")\n",
    "ax1.set_xticks(np.arange(1, 21, 1))\n",
    "ax1.set_yticks(np.arange(0, 2.1, 0.1))\n",
    "\n",
    "ax2.plot(model_two_history.history['accuracy'], color='c', label=\"Training Accuracy\")\n",
    "ax2.plot(model_two_history.history['val_accuracy'], color='m',label=\"Validation Accuracy\")\n",
    "ax2.set_xticks(np.arange(1, 21, 1))\n",
    "\n",
    "legend = plt.legend(loc='best', shadow=True)\n",
    "plt.tight_layout()\n",
    "plt.show()"
   ]
  },
  {
   "cell_type": "markdown",
   "id": "b9fd8a3e",
   "metadata": {},
   "source": [
    "The model now converges much quicker and remains steady at around epoch 8, indicating that this model is far more accruate. Each epoch took approximately five times as long to run and double the number were required, requiring far more computing power, however it provides a far more reliable alogorithm. "
   ]
  },
  {
   "cell_type": "markdown",
   "id": "16613d90",
   "metadata": {},
   "source": [
    "### Model Analysis"
   ]
  },
  {
   "cell_type": "markdown",
   "id": "4fe90d18",
   "metadata": {},
   "source": [
    "The performance of the learning algorithm can be shown in a confusion matrix, which gives a count of the True Positive (TP), True Negative (TN), False Positive (FP) and False Negative (FN) predictions of a classifier.\n",
    "This makes it easy to see whether the system is confusing two classes (i.e. commonly mislabeling one as another). Combining this with a heatmap gives an indication of the scale of the mislabeling. "
   ]
  },
  {
   "cell_type": "code",
   "execution_count": 27,
   "id": "63517616",
   "metadata": {
    "scrolled": true
   },
   "outputs": [
    {
     "data": {
      "image/png": "[encoded data removed]",
      "text/plain": [
       "<Figure size 1080x720 with 2 Axes>"
      ]
     },
     "metadata": {
      "needs_background": "light"
     },
     "output_type": "display_data"
    }
   ],
   "source": [
    "# function for confusion matrix\n",
    "def print_confusion_matrix(confusion_matrix, class_names, figsize = (10,8), fontsize=8):\n",
    "    df_cm = pd.DataFrame(\n",
    "        confusion_matrix, index=class_names, columns=class_names, \n",
    "    )\n",
    "    fig = plt.figure(figsize=figsize)\n",
    "    try:\n",
    "        heatmap = sns.heatmap(df_cm, annot=True, fmt=\"d\")\n",
    "    except ValueError:\n",
    "        raise ValueError(\"CM values must be integers.\")\n",
    "    heatmap.yaxis.set_ticklabels(heatmap.yaxis.get_ticklabels(), rotation=0, ha='right', fontsize=fontsize)\n",
    "    heatmap.xaxis.set_ticklabels(heatmap.xaxis.get_ticklabels(), rotation=45, ha='right', fontsize=fontsize)\n",
    "    plt.ylabel('True label')\n",
    "    plt.xlabel('Predicted label')\n",
    "    fig.savefig(os.path.join(MODEL_PATH,\"confusion_matrix.png\"))\n",
    "    return fig\n",
    "# function for heatmap\n",
    "def print_heatmap(n_labels, n_predictions, class_names):\n",
    "    labels = n_labels\n",
    "    predictions = n_predictions \n",
    "    matrix = confusion_matrix(labels.argmax(axis=1),predictions.argmax(axis=1))\n",
    "    row_sum = np.sum(matrix, axis = 1)\n",
    "    w, h = matrix.shape\n",
    "# use numpy zeros function    \n",
    "    c_m = np.zeros((w, h))\n",
    "\n",
    "    for i in range(h):\n",
    "        c_m[i] = matrix[i] * 100 / row_sum[i]\n",
    "\n",
    "    c = c_m.astype(dtype = np.uint8)\n",
    "\n",
    "    heatmap = print_confusion_matrix(c, class_names, figsize=(15,10), fontsize=8)\n",
    "#include class names to make CM more readable\n",
    "class_names = ['safe driving', 'texting - right', 'talking on the phone - right', 'texting - left', 'talking on the phone - left', 'operating the radio', 'drinking', 'reaching behind', \n",
    "               'hair and makeup', 'talking to passenger']\n",
    "\n",
    "ypred = model_two.predict(valid_tensors)\n",
    "print_heatmap(ytest,ypred,class_names)"
   ]
  },
  {
   "cell_type": "markdown",
   "id": "b5162ac5",
   "metadata": {},
   "source": [
    "The confusion matrix indicates a very high degree of accuracy, with very few false positives and no false negatives. "
   ]
  },
  {
   "cell_type": "markdown",
   "id": "cb01b1a7",
   "metadata": {},
   "source": [
    "### Accuracy, Precision & Recall of Model\n",
    "\n",
    "Accuracy - The ratio of correctly predicted observation to the total observations.  \n",
    "\n",
    "Precision – The ratio of correctly predicted positive observations to the total predicted positive observations. High precision relates to the low false positive rate.   \n",
    "\n",
    "Recall - The ratio of correctly predicted positive observations to the all observations in actual class.  \n",
    "\n",
    "F1 score - The weighted average of Precision and Recall, taking both false positives and false negatives into account.   "
   ]
  },
  {
   "cell_type": "code",
   "execution_count": 28,
   "id": "3331e815",
   "metadata": {},
   "outputs": [
    {
     "name": "stdout",
     "output_type": "stream",
     "text": [
      "Accuracy: 0.990546\n",
      "Precision: 0.990598\n",
      "Recall: 0.990546\n",
      "F1 score: 0.990541\n"
     ]
    }
   ],
   "source": [
    "ypred_class = np.argmax(ypred,axis=1)\n",
    "ytest = np.argmax(ytest,axis=1)\n",
    "\n",
    "#accuracy ratio\n",
    "accuracy = accuracy_score(ytest,ypred_class)\n",
    "print('Accuracy: %f' % accuracy)\n",
    "\n",
    "# precision ratio\n",
    "precision = precision_score(ytest, ypred_class,average='weighted')\n",
    "print('Precision: %f' % precision)\n",
    "\n",
    "# recall ratio\n",
    "recall = recall_score(ytest,ypred_class,average='weighted')\n",
    "print('Recall: %f' % recall)\n",
    "\n",
    "# f1 score\n",
    "f1 = f1_score(ytest,ypred_class,average='weighted')\n",
    "print('F1 score: %f' % f1)"
   ]
  },
  {
   "cell_type": "markdown",
   "id": "94a96604",
   "metadata": {},
   "source": [
    "### Check model on Test Images"
   ]
  },
  {
   "cell_type": "code",
   "execution_count": 29,
   "id": "f7201ff6",
   "metadata": {},
   "outputs": [
    {
     "name": "stdout",
     "output_type": "stream",
     "text": [
      "Model: \"sequential_1\"\n",
      "_________________________________________________________________\n",
      " Layer (type)                Output Shape              Param #   \n",
      "=================================================================\n",
      " conv2d_3 (Conv2D)           (None, 64, 64, 32)        416       \n",
      "                                                                 \n",
      " max_pooling2d_3 (MaxPooling  (None, 32, 32, 32)       0         \n",
      " 2D)                                                             \n",
      "                                                                 \n",
      " conv2d_4 (Conv2D)           (None, 32, 32, 64)        8256      \n",
      "                                                                 \n",
      " max_pooling2d_4 (MaxPooling  (None, 16, 16, 64)       0         \n",
      " 2D)                                                             \n",
      "                                                                 \n",
      " conv2d_5 (Conv2D)           (None, 16, 16, 128)       32896     \n",
      "                                                                 \n",
      " max_pooling2d_5 (MaxPooling  (None, 8, 8, 128)        0         \n",
      " 2D)                                                             \n",
      "                                                                 \n",
      " conv2d_6 (Conv2D)           (None, 8, 8, 256)         131328    \n",
      "                                                                 \n",
      " max_pooling2d_6 (MaxPooling  (None, 4, 4, 256)        0         \n",
      " 2D)                                                             \n",
      "                                                                 \n",
      " dropout_2 (Dropout)         (None, 4, 4, 256)         0         \n",
      "                                                                 \n",
      " flatten_1 (Flatten)         (None, 4096)              0         \n",
      "                                                                 \n",
      " dense_2 (Dense)             (None, 100)               409700    \n",
      "                                                                 \n",
      " dropout_3 (Dropout)         (None, 100)               0         \n",
      "                                                                 \n",
      " dense_3 (Dense)             (None, 10)                1010      \n",
      "                                                                 \n",
      "=================================================================\n",
      "Total params: 583,606\n",
      "Trainable params: 583,606\n",
      "Non-trainable params: 0\n",
      "_________________________________________________________________\n"
     ]
    }
   ],
   "source": [
    "BASE_MODEL_PATH = os.path.join(os.getcwd(),\"model\")\n",
    "TEST_DIR = os.path.join(os.getcwd(),\"csv_files\",\"test.csv\")\n",
    "PREDICT_DIR = os.path.join(os.getcwd(),\"pred_dir\")\n",
    "JSON_DIR = os.path.join(os.getcwd(),\"json_files\")\n",
    "if not os.path.exists(PREDICT_DIR):\n",
    "    os.makedirs(PREDICT_DIR)\n",
    "else:\n",
    "    shutil.rmtree(PREDICT_DIR)\n",
    "    os.makedirs(PREDICT_DIR)\n",
    "if not os.path.exists(JSON_DIR):\n",
    "    os.makedirs(JSON_DIR)\n",
    "\n",
    "BEST_MODEL = os.path.join(BASE_MODEL_PATH,\"self_trained\",\"distracted-08-0.99.hdf5\") \n",
    "model = load_model(BEST_MODEL)\n",
    "model.summary()"
   ]
  },
  {
   "cell_type": "code",
   "execution_count": 30,
   "id": "92c79f9f",
   "metadata": {},
   "outputs": [
    {
     "name": "stdout",
     "output_type": "stream",
     "text": [
      "<class 'pandas.core.frame.DataFrame'>\n",
      "RangeIndex: 10000 entries, 0 to 9999\n",
      "Data columns (total 2 columns):\n",
      " #   Column     Non-Null Count  Dtype \n",
      "---  ------     --------------  ----- \n",
      " 0   FileName   10000 non-null  object\n",
      " 1   ClassName  10000 non-null  object\n",
      "dtypes: object(2)\n",
      "memory usage: 156.4+ KB\n"
     ]
    }
   ],
   "source": [
    "data_test = pd.read_csv(os.path.join(TEST_DIR))\n",
    "#test on only 10000 images as loading the all test images requires 8gb RAM\n",
    "data_test = data_test[:10000] \n",
    "data_test.info()"
   ]
  },
  {
   "cell_type": "code",
   "execution_count": 31,
   "id": "bb07f6d4",
   "metadata": {},
   "outputs": [
    {
     "name": "stderr",
     "output_type": "stream",
     "text": [
      "100%|██████████| 10000/10000 [01:33<00:00, 106.61it/s]\n"
     ]
    }
   ],
   "source": [
    "ImageFile.LOAD_TRUNCATED_IMAGES = True  \n",
    "test_tensors = paths_to_tensor(data_test.iloc[:,0]).astype('float32')/255 - 0.5"
   ]
  },
  {
   "cell_type": "code",
   "execution_count": 32,
   "id": "299a08cc",
   "metadata": {
    "scrolled": true
   },
   "outputs": [
    {
     "name": "stdout",
     "output_type": "stream",
     "text": [
      "313/313 [==============================] - 9s 28ms/step\n",
      "{0: 'c6', 1: 'c0', 2: 'c7', 3: 'c3', 4: 'c4', 5: 'c8', 6: 'c1', 7: 'c5', 8: 'c2', 9: 'c9'}\n"
     ]
    }
   ],
   "source": [
    "# Return maximum predictions\n",
    "ypred_test = model.predict(test_tensors,verbose=1)\n",
    "ypred_class = np.argmax(ypred_test,axis=1)\n",
    "\n",
    "id_labels = dict()\n",
    "for class_name, idx in labels_id.items():\n",
    "    id_labels[idx] = class_name\n",
    "print(id_labels)\n",
    "\n",
    "for j in range(data_test.shape[0]):\n",
    "    data_test.iloc[j,1] = id_labels[ypred_class[j]]"
   ]
  },
  {
   "cell_type": "markdown",
   "id": "4cd4a99a",
   "metadata": {},
   "source": [
    "### Image Classification\n",
    "In order to view the results of the modelling, a human readable and understandable classname will be added to the image files. "
   ]
  },
  {
   "cell_type": "code",
   "execution_count": 33,
   "id": "2ec639cb",
   "metadata": {},
   "outputs": [],
   "source": [
    "import json\n",
    "class_name = dict()\n",
    "# Define new classnames\n",
    "class_name[\"c0\"] = \"Safe_Driving\"\n",
    "class_name[\"c1\"] = \"Texting_Right\"\n",
    "class_name[\"c2\"] = \"Talking_Phone_Right\"\n",
    "class_name[\"c3\"] = \"Texting_Left\"\n",
    "class_name[\"c4\"] = \"Talking_Phone_left\"\n",
    "class_name[\"c5\"] = \"Operating_Radio\"\n",
    "class_name[\"c6\"] = \"Drinking\"\n",
    "class_name[\"c7\"] = \"Reaching_Behind\"\n",
    "class_name[\"c8\"] = \"Hair_And_Makeup\"\n",
    "class_name[\"c9\"] = \"Talking_To_Passenger\"\n",
    "\n",
    "with open(os.path.join(JSON_DIR,'class_name_map.json'),'w') as secret_input:\n",
    "    json.dump(class_name,secret_input,indent=4,sort_keys=True)"
   ]
  },
  {
   "cell_type": "code",
   "execution_count": 34,
   "id": "1c72bbb8",
   "metadata": {},
   "outputs": [],
   "source": [
    "with open(os.path.join(JSON_DIR,'class_name_map.json')) as secret_input:\n",
    "    info = json.load(secret_input)\n",
    "# Copy files\n",
    "for j in range(data_test.shape[0]):\n",
    "    new_name = data_test.iloc[j,0].split(\"/\")[-1].split(\".\")[0]+\"_\"+info[data_test.iloc[j,1]]+\".jpg\"\n",
    "    shutil.copy(data_test.iloc[j,0],os.path.join(PREDICT_DIR,new_name))\n",
    "    \n",
    "data_test.to_csv(os.path.join(os.getcwd(),\"csv_files\",\"short_test_result.csv\"),index=False)"
   ]
  },
  {
   "cell_type": "markdown",
   "id": "9e4b75ff",
   "metadata": {},
   "source": [
    "### Conclusion\n",
    "\n",
    "Following review of the test images, it is clear that many of the images have been mis-labelled and some of the classes are more problematic than others. In particular, those images where the participants were wearing glasses/sunglasses and whose hands and arms cross their body are easily misconstrued (i.e. sunglasses were confused for a mobile phone, see fig below). \n",
    "![Glasses](Imgs/Glasses.jpg)\n",
    "\n",
    "In addition, those images where a participant has been labelled as talking to a passenger may simply be considering the environment around them and are not distracted at all. \n",
    "\n",
    "To improve the result, a larger training set could be used and the categories could be futher segragated to focus on expanding and identifying the problematic classes. Subtle human behaviours that influence the result (i.e. the driver smiling or with their mouth open suggests talking to a passenger, an extended arm but eyes on the road may indicating adjusting air vents rather than the radio) and these were not included in the initial classification. Additionally, more images that include accessories such a glasses, jewellery, hats etc. would allow for less confusion.  "
   ]
  },
  {
   "cell_type": "markdown",
   "id": "732de1d4",
   "metadata": {},
   "source": [
    "### References\n",
    "\n",
    "*Aditya Sharma. (2017, December 5). Convolutional Neural Networks in Python with Keras. Datacamp.*\n",
    "\n",
    "*Demeng Feng. (2019). Machine Learning Techniques for Distracted Driver Detection.*\n",
    "\n",
    "*Goodfellow lan, Bengio Yoshua, C. A. (2016). Deep Learning - Ian Goodfellow, Yoshua Bengio, Aaron Courville - Google Books. In MIT Press.*\n",
    "\n",
    "*Han, E. S., & goleman, daniel; boyatzis, Richard; Mckee, A. (2019). Pattern Recognition and Machine Learning by Christopher M. Bishop. In Journal of Chemical Information and Modeling (Vol. 53, Issue 9).*\n",
    "\n",
    "*Kaggle. (2021). Kaggle: Your Home for Data Science. Website.*\n",
    "\n",
    "*Lee, H., & Song, J. (2019). Introduction to convolutional neural network using Keras; An understanding from a statistician. Communications for Statistical Applications and Methods, 26(6). https://doi.org/10.29220/CSAM.2019.26.6.591*\n",
    "\n",
    "*McDonald, A. D., Ferris, T. K., & Wiener, T. A. (2020). Classification of Driver Distraction: A Comprehensive Analysis of Feature Generation, Machine Learning, and Input Measures. Human Factors, 62(6). https://doi.org/10.1177/0018720819856454*\n",
    "\n",
    "*Omerustaoglu, F., Sakar, C. O., & Kar, G. (2020). Distracted driver detection by combining in-vehicle and image data using deep learning. Applied Soft Computing Journal, 96. https://doi.org/10.1016/j.asoc.2020.106657*\n",
    "\n",
    "*Raschka, S., & Mirjalili, V. (2006). Python Machine Learning (Second Edition). In John Wiley & Sons, Inc.*\n",
    "\n",
    "*Renu Khandelwal. (2020, May 18). Convolutional Neural Network: Feature Map and Filter Visualization. TDS.*\n",
    "\n",
    "*Rosen, T. (2017). Choosing the right estimator. Bsd.*"
   ]
  }
 ],
 "metadata": {
  "kernelspec": {
   "display_name": "Python 3 (ipykernel)",
   "language": "python",
   "name": "python3"
  },
  "language_info": {
   "codemirror_mode": {
    "name": "ipython",
    "version": 3
   },
   "file_extension": ".py",
   "mimetype": "text/x-python",
   "name": "python",
   "nbconvert_exporter": "python",
   "pygments_lexer": "ipython3",
   "version": "3.9.7"
  }
 },
 "nbformat": 4,
 "nbformat_minor": 5
}
